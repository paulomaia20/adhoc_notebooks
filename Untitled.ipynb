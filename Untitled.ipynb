{
 "cells": [
  {
   "cell_type": "code",
   "execution_count": 49,
   "metadata": {},
   "outputs": [],
   "source": [
    "import pandas as pd\n",
    "from itertools import product\n",
    "import numpy as np\n",
    "import seaborn as sns\n",
    "import matplotlib.pyplot as plt"
   ]
  },
  {
   "cell_type": "code",
   "execution_count": 50,
   "metadata": {},
   "outputs": [],
   "source": [
    "rncci = pd.read_csv('rncci-episodios.csv', sep = ';')"
   ]
  },
  {
   "cell_type": "markdown",
   "metadata": {},
   "source": [
    "Data was extracted from https://transparencia.sns.gov.pt/explore/dataset/rncci-episodios/information/?disjunctive.regiao&disjunctive.tipologia&sort=regiao&refine.data=2019 with the following description: \n",
    "\n",
    "Acompanhar o número de utentes a aguardar vaga por Região e Tipologia.\n",
    "\n",
    "Apuramento diário do estado das listas de espera dos utentes a aguardar vaga (estados “Ingresso/Aguarda Vaga”) para entrada na Rede Nacional de Cuidados Continuados (RNCCI), por Região e Tipologia.\n",
    "Legenda da Tipologia:\n",
    "- ECCI: Equipa de Cuidados Continuados Integrados;\n",
    "- EDSCP: Equipa Domiciliária de Suporte em Cuidados Paliativos;\n",
    "- UC: Unidade de Convalescença;\n",
    "- UCP: Unidade de Cuidados Paliativos;\n",
    "- ULDM: Unidade de Longa Duração e Manutenção;\n",
    "- UMDR: Unidade de Média Duração e Reabilitação;\n",
    "- RTA: Residência de Treino de autonomia;\n",
    "- RAMo: Residência de Apoio Moderado;\n",
    "- USO: Unidade Socio-Ocupacional;\n",
    "- RA: Residência Autónoma;\n",
    "- UAP: Unidade de Ambulatório Pediátrica;\n",
    "- RAMa: Residência de Apoio Máximo;\n",
    "- RTA/A: Residência de Treino de Autonomia Tipo A.\n",
    "\n",
    "Observações: São ignorados os utentes em transferência .(mobilidade na RNCCI) \n",
    "\n",
    "Here's some more info:\n",
    "\n",
    "https://eportugal.gov.pt/cidadaos/cuidador-informal/rede-nacional-de-cuidados-continuados-integrados-rncci "
   ]
  },
  {
   "cell_type": "markdown",
   "metadata": {},
   "source": [
    "## Initial variable exploration"
   ]
  },
  {
   "cell_type": "code",
   "execution_count": 51,
   "metadata": {},
   "outputs": [
    {
     "data": {
      "text/html": [
       "<div>\n",
       "<style scoped>\n",
       "    .dataframe tbody tr th:only-of-type {\n",
       "        vertical-align: middle;\n",
       "    }\n",
       "\n",
       "    .dataframe tbody tr th {\n",
       "        vertical-align: top;\n",
       "    }\n",
       "\n",
       "    .dataframe thead th {\n",
       "        text-align: right;\n",
       "    }\n",
       "</style>\n",
       "<table border=\"1\" class=\"dataframe\">\n",
       "  <thead>\n",
       "    <tr style=\"text-align: right;\">\n",
       "      <th></th>\n",
       "      <th>Data</th>\n",
       "      <th>Região</th>\n",
       "      <th>Tipologia</th>\n",
       "      <th>Nº Utentes</th>\n",
       "      <th>ID</th>\n",
       "    </tr>\n",
       "  </thead>\n",
       "  <tbody>\n",
       "    <tr>\n",
       "      <th>0</th>\n",
       "      <td>2020-02-01</td>\n",
       "      <td>ALENTEJO</td>\n",
       "      <td>ULDM</td>\n",
       "      <td>79</td>\n",
       "      <td>2020-02-01T00:00:00/ALENTEJO/ULDM</td>\n",
       "    </tr>\n",
       "    <tr>\n",
       "      <th>1</th>\n",
       "      <td>2020-02-01</td>\n",
       "      <td>CENTRO</td>\n",
       "      <td>ECCI</td>\n",
       "      <td>41</td>\n",
       "      <td>2020-02-01T00:00:00/CENTRO/ECCI</td>\n",
       "    </tr>\n",
       "    <tr>\n",
       "      <th>2</th>\n",
       "      <td>2020-02-01</td>\n",
       "      <td>CENTRO</td>\n",
       "      <td>RAMo</td>\n",
       "      <td>2</td>\n",
       "      <td>2020-02-01T00:00:00/CENTRO/RAMo</td>\n",
       "    </tr>\n",
       "    <tr>\n",
       "      <th>3</th>\n",
       "      <td>2020-02-01</td>\n",
       "      <td>CENTRO</td>\n",
       "      <td>UC</td>\n",
       "      <td>68</td>\n",
       "      <td>2020-02-01T00:00:00/CENTRO/UC</td>\n",
       "    </tr>\n",
       "    <tr>\n",
       "      <th>4</th>\n",
       "      <td>2020-02-01</td>\n",
       "      <td>LISBOA E VALE DO TEJO</td>\n",
       "      <td>ECCI</td>\n",
       "      <td>18</td>\n",
       "      <td>2020-02-01T00:00:00/LISBOA E VALE DO TEJO/ECCI</td>\n",
       "    </tr>\n",
       "  </tbody>\n",
       "</table>\n",
       "</div>"
      ],
      "text/plain": [
       "         Data                 Região Tipologia  Nº Utentes  \\\n",
       "0  2020-02-01               ALENTEJO      ULDM          79   \n",
       "1  2020-02-01                 CENTRO      ECCI          41   \n",
       "2  2020-02-01                 CENTRO      RAMo           2   \n",
       "3  2020-02-01                 CENTRO        UC          68   \n",
       "4  2020-02-01  LISBOA E VALE DO TEJO      ECCI          18   \n",
       "\n",
       "                                               ID  \n",
       "0               2020-02-01T00:00:00/ALENTEJO/ULDM  \n",
       "1                 2020-02-01T00:00:00/CENTRO/ECCI  \n",
       "2                 2020-02-01T00:00:00/CENTRO/RAMo  \n",
       "3                   2020-02-01T00:00:00/CENTRO/UC  \n",
       "4  2020-02-01T00:00:00/LISBOA E VALE DO TEJO/ECCI  "
      ]
     },
     "execution_count": 51,
     "metadata": {},
     "output_type": "execute_result"
    }
   ],
   "source": [
    "rncci.head()"
   ]
  },
  {
   "cell_type": "markdown",
   "metadata": {},
   "source": [
    "Add some auxiliary columns for group by"
   ]
  },
  {
   "cell_type": "code",
   "execution_count": 52,
   "metadata": {},
   "outputs": [],
   "source": [
    "rncci['Year'] = rncci['Data'].str[0:4].astype(float) # We have NaNs and dont want to remove them for now :) \n",
    "rncci['Month'] = rncci['Data'].str[5:7].astype(float)\n",
    "rncci['Day'] = rncci['Data'].str[8:10].astype(float)"
   ]
  },
  {
   "cell_type": "code",
   "execution_count": 53,
   "metadata": {},
   "outputs": [
    {
     "data": {
      "text/plain": [
       "Year    Month\n",
       "2016.0  12.0     340\n",
       "2017.0  1.0      184\n",
       "        10.0     453\n",
       "        11.0     573\n",
       "        12.0     598\n",
       "2018.0  1.0      609\n",
       "        2.0      555\n",
       "        3.0      748\n",
       "        4.0      677\n",
       "        5.0      776\n",
       "        6.0      783\n",
       "        7.0      887\n",
       "        8.0      866\n",
       "        9.0      832\n",
       "        10.0     846\n",
       "        11.0     713\n",
       "        12.0     856\n",
       "2019.0  1.0      822\n",
       "        2.0      775\n",
       "        3.0      663\n",
       "        4.0      198\n",
       "        6.0      855\n",
       "        7.0      182\n",
       "        10.0     419\n",
       "        11.0     893\n",
       "        12.0     932\n",
       "2020.0  1.0      867\n",
       "        2.0       30\n",
       "Name: Month, dtype: int64"
      ]
     },
     "execution_count": 53,
     "metadata": {},
     "output_type": "execute_result"
    }
   ],
   "source": [
    "rncci.groupby(['Year', 'Month']).Month.count()"
   ]
  },
  {
   "cell_type": "code",
   "execution_count": 54,
   "metadata": {},
   "outputs": [],
   "source": [
    "# Filter it to 2018 and 2019 to have two years of complete historical data\n",
    "\n",
    "rncci = rncci[(rncci.Year < 2020) & (rncci.Year > 2017)]"
   ]
  },
  {
   "cell_type": "code",
   "execution_count": 59,
   "metadata": {},
   "outputs": [
    {
     "data": {
      "text/plain": [
       "Data           0\n",
       "Região         0\n",
       "Tipologia     20\n",
       "Nº Utentes     0\n",
       "ID             0\n",
       "Year           0\n",
       "Month          0\n",
       "Day            0\n",
       "dtype: int64"
      ]
     },
     "execution_count": 59,
     "metadata": {},
     "output_type": "execute_result"
    }
   ],
   "source": [
    "#Check for NANs\n",
    "rncci.isna().sum()"
   ]
  },
  {
   "cell_type": "code",
   "execution_count": 61,
   "metadata": {},
   "outputs": [
    {
     "data": {
      "text/html": [
       "<div>\n",
       "<style scoped>\n",
       "    .dataframe tbody tr th:only-of-type {\n",
       "        vertical-align: middle;\n",
       "    }\n",
       "\n",
       "    .dataframe tbody tr th {\n",
       "        vertical-align: top;\n",
       "    }\n",
       "\n",
       "    .dataframe thead th {\n",
       "        text-align: right;\n",
       "    }\n",
       "</style>\n",
       "<table border=\"1\" class=\"dataframe\">\n",
       "  <thead>\n",
       "    <tr style=\"text-align: right;\">\n",
       "      <th></th>\n",
       "      <th>Data</th>\n",
       "      <th>Região</th>\n",
       "      <th>Tipologia</th>\n",
       "      <th>Nº Utentes</th>\n",
       "      <th>ID</th>\n",
       "      <th>Year</th>\n",
       "      <th>Month</th>\n",
       "      <th>Day</th>\n",
       "    </tr>\n",
       "  </thead>\n",
       "  <tbody>\n",
       "    <tr>\n",
       "      <th>3143</th>\n",
       "      <td>2019-07-15</td>\n",
       "      <td>NORTE</td>\n",
       "      <td>NaN</td>\n",
       "      <td>1</td>\n",
       "      <td>2019-07-15T00:00:00/NORTE</td>\n",
       "      <td>2019.0</td>\n",
       "      <td>7.0</td>\n",
       "      <td>15.0</td>\n",
       "    </tr>\n",
       "    <tr>\n",
       "      <th>3192</th>\n",
       "      <td>2019-07-14</td>\n",
       "      <td>NORTE</td>\n",
       "      <td>NaN</td>\n",
       "      <td>1</td>\n",
       "      <td>2019-07-14T00:00:00/NORTE</td>\n",
       "      <td>2019.0</td>\n",
       "      <td>7.0</td>\n",
       "      <td>14.0</td>\n",
       "    </tr>\n",
       "    <tr>\n",
       "      <th>3227</th>\n",
       "      <td>2019-07-11</td>\n",
       "      <td>NORTE</td>\n",
       "      <td>NaN</td>\n",
       "      <td>1</td>\n",
       "      <td>2019-07-11T00:00:00/NORTE</td>\n",
       "      <td>2019.0</td>\n",
       "      <td>7.0</td>\n",
       "      <td>11.0</td>\n",
       "    </tr>\n",
       "    <tr>\n",
       "      <th>3251</th>\n",
       "      <td>2019-07-07</td>\n",
       "      <td>NORTE</td>\n",
       "      <td>NaN</td>\n",
       "      <td>1</td>\n",
       "      <td>2019-07-07T00:00:00/NORTE</td>\n",
       "      <td>2019.0</td>\n",
       "      <td>7.0</td>\n",
       "      <td>7.0</td>\n",
       "    </tr>\n",
       "    <tr>\n",
       "      <th>3270</th>\n",
       "      <td>2019-07-02</td>\n",
       "      <td>NORTE</td>\n",
       "      <td>NaN</td>\n",
       "      <td>1</td>\n",
       "      <td>2019-07-02T00:00:00/NORTE</td>\n",
       "      <td>2019.0</td>\n",
       "      <td>7.0</td>\n",
       "      <td>2.0</td>\n",
       "    </tr>\n",
       "  </tbody>\n",
       "</table>\n",
       "</div>"
      ],
      "text/plain": [
       "            Data Região Tipologia  Nº Utentes                         ID  \\\n",
       "3143  2019-07-15  NORTE       NaN           1  2019-07-15T00:00:00/NORTE   \n",
       "3192  2019-07-14  NORTE       NaN           1  2019-07-14T00:00:00/NORTE   \n",
       "3227  2019-07-11  NORTE       NaN           1  2019-07-11T00:00:00/NORTE   \n",
       "3251  2019-07-07  NORTE       NaN           1  2019-07-07T00:00:00/NORTE   \n",
       "3270  2019-07-02  NORTE       NaN           1  2019-07-02T00:00:00/NORTE   \n",
       "\n",
       "        Year  Month   Day  \n",
       "3143  2019.0    7.0  15.0  \n",
       "3192  2019.0    7.0  14.0  \n",
       "3227  2019.0    7.0  11.0  \n",
       "3251  2019.0    7.0   7.0  \n",
       "3270  2019.0    7.0   2.0  "
      ]
     },
     "execution_count": 61,
     "metadata": {},
     "output_type": "execute_result"
    }
   ],
   "source": [
    "rncci[rncci.Tipologia.isna()].head() "
   ]
  },
  {
   "cell_type": "markdown",
   "metadata": {},
   "source": [
    "Weird cases in 2019/7 and 2019/6, but we can remove them later since there are not many. "
   ]
  },
  {
   "cell_type": "markdown",
   "metadata": {},
   "source": [
    "Let's start by looking at the last day there is data available, December 31st, as well as the first day, January 1st."
   ]
  },
  {
   "cell_type": "code",
   "execution_count": 35,
   "metadata": {},
   "outputs": [],
   "source": [
    "lastday_sample = rncci[rncci.Data == '2019-12-31']\n",
    "\n",
    "firstday_sample = rncci[rncci.Data == '2019-01-01']"
   ]
  },
  {
   "cell_type": "markdown",
   "metadata": {},
   "source": [
    "How many regions and tipologies are? Do all regions have equal number of tipologies? "
   ]
  },
  {
   "cell_type": "code",
   "execution_count": 36,
   "metadata": {},
   "outputs": [
    {
     "data": {
      "text/plain": [
       "Região\n",
       "ALENTEJO                 6\n",
       "ALGARVE                  3\n",
       "CENTRO                   5\n",
       "LISBOA E VALE DO TEJO    9\n",
       "NORTE                    6\n",
       "Name: Tipologia, dtype: int64"
      ]
     },
     "execution_count": 36,
     "metadata": {},
     "output_type": "execute_result"
    }
   ],
   "source": [
    "lastday_sample.groupby('Região').Tipologia.count()"
   ]
  },
  {
   "cell_type": "code",
   "execution_count": 37,
   "metadata": {},
   "outputs": [
    {
     "data": {
      "text/plain": [
       "Região\n",
       "ALENTEJO                 5\n",
       "ALGARVE                  4\n",
       "CENTRO                   5\n",
       "LISBOA E VALE DO TEJO    8\n",
       "NORTE                    6\n",
       "Name: Tipologia, dtype: int64"
      ]
     },
     "execution_count": 37,
     "metadata": {},
     "output_type": "execute_result"
    }
   ],
   "source": [
    "firstday_sample.groupby('Região').Tipologia.count()"
   ]
  },
  {
   "cell_type": "markdown",
   "metadata": {},
   "source": [
    "It appears not. For this sample, we have 5 regions - ALENTEJO, ALGARVE, CENTRO, LISBOA E VALE DO TEJO, NORTE. Algarve has less \"Tipologias\" than the remaining ones.\n",
    "\n",
    "However, the number of tipologies per region differs on the first and on the last day. Perhaps the dataset only adds a row for that tipology in cases where the number of users is smaller than zero? "
   ]
  },
  {
   "cell_type": "code",
   "execution_count": 38,
   "metadata": {},
   "outputs": [
    {
     "data": {
      "text/plain": [
       "0"
      ]
     },
     "execution_count": 38,
     "metadata": {},
     "output_type": "execute_result"
    }
   ],
   "source": [
    "(rncci['Nº Utentes'] == 0).sum()"
   ]
  },
  {
   "cell_type": "markdown",
   "metadata": {},
   "source": [
    "Apparently, this is true. As such, looking at a single row for this data does not tell us directly whether that region has available services for a certain tipology or if there are never users waiting for a slot. \n",
    "\n",
    "We can create a dataframe containing, for all days available, the non-duplicated pairs (Região, Tipologia)."
   ]
  },
  {
   "cell_type": "code",
   "execution_count": 39,
   "metadata": {},
   "outputs": [],
   "source": [
    "non_dupl_pairs = rncci[['Região', 'Tipologia']].drop_duplicates()"
   ]
  },
  {
   "cell_type": "code",
   "execution_count": 40,
   "metadata": {},
   "outputs": [
    {
     "data": {
      "text/plain": [
       "Região\n",
       "ALENTEJO                  6\n",
       "ALGARVE                   4\n",
       "CENTRO                    8\n",
       "LISBOA E VALE DO TEJO    12\n",
       "NORTE                    11\n",
       "Name: Tipologia, dtype: int64"
      ]
     },
     "execution_count": 40,
     "metadata": {},
     "output_type": "execute_result"
    }
   ],
   "source": [
    "non_dupl_pairs.groupby('Região').Tipologia.count()"
   ]
  },
  {
   "cell_type": "markdown",
   "metadata": {},
   "source": [
    "We can now see that there are a lot more tipologies available than what we expected by looking at a single day! "
   ]
  },
  {
   "cell_type": "markdown",
   "metadata": {},
   "source": [
    "http://www.acss.min-saude.pt/category/cuidados-de-saude/continuados/\n",
    "\n",
    "http://www.acss.min-saude.pt/2017/07/11/listagem-das-unidades-da-rncci/ \n",
    "\n",
    "http://www.acss.min-saude.pt/category/cuidados-de-saude/continuados/\n",
    "\n",
    "Clicking on \"RNCCI – Onde estamos\" shows a GIS map "
   ]
  },
  {
   "cell_type": "markdown",
   "metadata": {},
   "source": [
    "Let's look at the number of tipologies available per region.\n",
    "\n",
    "We'll start by creating an auxiliary dataframe with all possible pairs (Region, Tipology) that contains a column saying whether a region contains a certain tipology or not "
   ]
  },
  {
   "cell_type": "code",
   "execution_count": 41,
   "metadata": {},
   "outputs": [],
   "source": [
    "non_dupl_pairs = non_dupl_pairs.dropna()\n",
    "non_dupl_pairs['exists'] = 1\n",
    "\n",
    "tipologies = non_dupl_pairs['Tipologia'].unique()\n",
    "regions = non_dupl_pairs['Região'].unique()\n",
    "\n",
    "combinations = list(product(regions, tipologies))\n",
    "\n",
    "region_counts = pd.DataFrame(combinations, columns=['Região', 'Tipologia'])\n",
    "\n",
    "region_counts = region_counts.merge(non_dupl_pairs.dropna(), on=['Região', 'Tipologia'], how='left')\n",
    "region_counts['exists'] = region_counts['exists'].replace(np.nan, 0)"
   ]
  },
  {
   "cell_type": "code",
   "execution_count": 42,
   "metadata": {},
   "outputs": [
    {
     "data": {
      "image/png": "[encoded data removed]",
      "text/plain": [
       "<Figure size 432x288 with 2 Axes>"
      ]
     },
     "metadata": {
      "needs_background": "light"
     },
     "output_type": "display_data"
    }
   ],
   "source": [
    "heatmap = region_counts.pivot(\"Região\", \"Tipologia\", \"exists\")\n",
    "\n",
    "sns.heatmap(heatmap, linewidths=.1)\n",
    "plt.show()"
   ]
  },
  {
   "cell_type": "markdown",
   "metadata": {},
   "source": [
    "All of them have Equipas de Cuidados Continuados Integrados (ECCI), Unidade de Longa Duração e Manutenção (ULDM) - para internamentos com mais de 90 dias and Unidade de Média Duração e Reabilitação (UMDR) - para internamentos com duração entre 30 e 90 dias. "
   ]
  },
  {
   "cell_type": "markdown",
   "metadata": {},
   "source": [
    "## Volume Analysis"
   ]
  },
  {
   "cell_type": "markdown",
   "metadata": {},
   "source": [
    "Let's start now by analysing the volume of users.\n",
    "\n",
    "What is the average number of waiting users per region?"
   ]
  },
  {
   "cell_type": "code",
   "execution_count": 43,
   "metadata": {},
   "outputs": [
    {
     "data": {
      "text/plain": [
       "Text(0.5,1,'Average number of waiting list users per region')"
      ]
     },
     "execution_count": 43,
     "metadata": {},
     "output_type": "execute_result"
    },
    {
     "data": {
      "image/png": "[encoded data removed]",
      "text/plain": [
       "<Figure size 432x288 with 1 Axes>"
      ]
     },
     "metadata": {
      "needs_background": "light"
     },
     "output_type": "display_data"
    }
   ],
   "source": [
    "region_avg = rncci.groupby(['Região'])['Nº Utentes'].mean().reset_index()\n",
    "\n",
    "sns.barplot(y=\"Região\", x=\"Nº Utentes\", data=region_avg,\n",
    "          color=\"b\")\n",
    "plt.title('Average number of waiting list users per region')"
   ]
  },
  {
   "cell_type": "markdown",
   "metadata": {},
   "source": [
    "Lisbon has the most waiting users (and also the highest number of tipologies)"
   ]
  },
  {
   "cell_type": "markdown",
   "metadata": {},
   "source": [
    "What is the tipology containing most waiting users?"
   ]
  },
  {
   "cell_type": "code",
   "execution_count": 44,
   "metadata": {},
   "outputs": [
    {
     "data": {
      "text/plain": [
       "Text(0.5,1,'Average number of waiting list users per tipology')"
      ]
     },
     "execution_count": 44,
     "metadata": {},
     "output_type": "execute_result"
    },
    {
     "data": {
      "image/png": "[encoded data removed]",
      "text/plain": [
       "<Figure size 432x288 with 1 Axes>"
      ]
     },
     "metadata": {
      "needs_background": "light"
     },
     "output_type": "display_data"
    }
   ],
   "source": [
    "mean_waiting_tipology = rncci.groupby(['Tipologia'])['Nº Utentes'].mean().reset_index()\n",
    "\n",
    "mean_waiting_tipology['Logaritmo Nº Utentes'] = np.log(1 + mean_waiting_tipology['Nº Utentes'])\n",
    "\n",
    "sns.barplot(y=\"Tipologia\", x=\"Logaritmo Nº Utentes\", data=mean_waiting_tipology,\n",
    "          color=\"b\")\n",
    "\n",
    "plt.title('Average number of waiting list users per tipology')"
   ]
  },
  {
   "cell_type": "markdown",
   "metadata": {},
   "source": [
    "Looking at the tipology with most waiting users - ULDM - Is there a pattern in the mean count per month?"
   ]
  },
  {
   "cell_type": "code",
   "execution_count": 63,
   "metadata": {},
   "outputs": [],
   "source": [
    "uldm_count_per_month = rncci[rncci.Tipologia == 'ULDM'].groupby(['Month', 'Year'])['Nº Utentes'].mean().reset_index()\n",
    "uldm_count_per_month.Year = uldm_count_per_month.Year.astype(int)"
   ]
  },
  {
   "cell_type": "code",
   "execution_count": 67,
   "metadata": {},
   "outputs": [
    {
     "data": {
      "text/plain": [
       "<matplotlib.axes._subplots.AxesSubplot at 0x15d91671860>"
      ]
     },
     "execution_count": 67,
     "metadata": {},
     "output_type": "execute_result"
    },
    {
     "data": {
      "image/png": "[encoded data removed]",
      "text/plain": [
       "<Figure size 432x288 with 1 Axes>"
      ]
     },
     "metadata": {
      "needs_background": "light"
     },
     "output_type": "display_data"
    }
   ],
   "source": [
    "sns.lineplot(x='Month', y='Nº Utentes', hue='Year', data=uldm_count_per_month)"
   ]
  },
  {
   "cell_type": "markdown",
   "metadata": {},
   "source": [
    "Is the behavior similar for all tipologies?"
   ]
  },
  {
   "cell_type": "code",
   "execution_count": 68,
   "metadata": {},
   "outputs": [
    {
     "data": {
      "text/plain": [
       "<matplotlib.axes._subplots.AxesSubplot at 0x15d9164b208>"
      ]
     },
     "execution_count": 68,
     "metadata": {},
     "output_type": "execute_result"
    },
    {
     "data": {
      "image/png": "[encoded data removed]",
      "text/plain": [
       "<Figure size 432x288 with 1 Axes>"
      ]
     },
     "metadata": {
      "needs_background": "light"
     },
     "output_type": "display_data"
    }
   ],
   "source": [
    "all_count_per_month = rncci.groupby(['Month', 'Year'])['Nº Utentes'].mean().reset_index()\n",
    "all_count_per_month.Year = all_count_per_month.Year.astype(int)\n",
    "\n",
    "sns.lineplot(x='Month', y='Nº Utentes', hue='Year', data=all_count_per_month)"
   ]
  },
  {
   "cell_type": "markdown",
   "metadata": {},
   "source": [
    "Seems like for the mean value, a maximum peak is hit at the beggining of the year and then it starts decreasing/plateauing! "
   ]
  },
  {
   "cell_type": "code",
   "execution_count": null,
   "metadata": {},
   "outputs": [],
   "source": []
  }
 ],
 "metadata": {
  "kernelspec": {
   "display_name": "Python 3",
   "language": "python",
   "name": "python3"
  },
  "language_info": {
   "codemirror_mode": {
    "name": "ipython",
    "version": 3
   },
   "file_extension": ".py",
   "mimetype": "text/x-python",
   "name": "python",
   "nbconvert_exporter": "python",
   "pygments_lexer": "ipython3",
   "version": "3.7.3"
  }
 },
 "nbformat": 4,
 "nbformat_minor": 2
}
